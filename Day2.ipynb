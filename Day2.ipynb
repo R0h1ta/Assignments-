{
 "cells": [
  {
   "cell_type": "code",
   "execution_count": 1,
   "id": "73bd3314-923d-49be-b2cb-187f13f493d9",
   "metadata": {},
   "outputs": [
    {
     "name": "stdout",
     "output_type": "stream",
     "text": [
      "List Element at index 2: 30\n",
      "Tuple Element at index 1: banana\n",
      "Dictionary Element for key 'name': Alice\n",
      "Dictionary Element for key 'age': 25\n",
      "List Element at index -1 (last element): 50\n",
      "Tuple Element at index -2 (second to last): date\n"
     ]
    }
   ],
   "source": [
    "# Creating a List with 5 elements\n",
    "my_list = [10, 20, 30, 40, 50]\n",
    "\n",
    "# Creating a Tuple with 5 elements\n",
    "my_tuple = ('apple', 'banana', 'cherry', 'date', 'elderberry')\n",
    "\n",
    "# Creating a Dictionary with 5 key-value pairs\n",
    "my_dict = {'name': 'Alice', 'age': 25, 'city': 'New York', 'job': 'Engineer', 'is_student': False}\n",
    "\n",
    "# Accessing elements based on index (or key for dictionary)\n",
    "# For List\n",
    "print(\"List Element at index 2:\", my_list[2])  # Accessing the 3rd element (index 2)\n",
    "\n",
    "# For Tuple\n",
    "print(\"Tuple Element at index 1:\", my_tuple[1])  # Accessing the 2nd element (index 1)\n",
    "\n",
    "# For Dictionary, access by key\n",
    "print(\"Dictionary Element for key 'name':\", my_dict['name'])  # Accessing value associated with 'name'\n",
    "print(\"Dictionary Element for key 'age':\", my_dict['age'])    # Accessing value associated with 'age'\n",
    "\n",
    "# Negative indexing (starting from the end)\n",
    "print(\"List Element at index -1 (last element):\", my_list[-1])  # Last element\n",
    "print(\"Tuple Element at index -2 (second to last):\", my_tuple[-2])  # Second to last element\n"
   ]
  },
  {
   "cell_type": "code",
   "execution_count": null,
   "id": "841d845a-1d3f-4930-9a4f-da135b4946e6",
   "metadata": {},
   "outputs": [],
   "source": []
  }
 ],
 "metadata": {
  "kernelspec": {
   "display_name": "Python 3 (ipykernel)",
   "language": "python",
   "name": "python3"
  },
  "language_info": {
   "codemirror_mode": {
    "name": "ipython",
    "version": 3
   },
   "file_extension": ".py",
   "mimetype": "text/x-python",
   "name": "python",
   "nbconvert_exporter": "python",
   "pygments_lexer": "ipython3",
   "version": "3.12.4"
  }
 },
 "nbformat": 4,
 "nbformat_minor": 5
}
