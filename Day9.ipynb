{
 "cells": [
  {
   "cell_type": "code",
   "execution_count": null,
   "id": "0e2cd21c-09d7-4dc4-bca4-8da35c00f658",
   "metadata": {},
   "outputs": [],
   "source": [
    "# Importing necessary libraries\n",
    "import pandas as pd\n",
    "\n",
    "# Loading the banking_data.csv file\n",
    "file_path = '/path/to/Day_9_banking_data.csv'  # Replace with the actual path\n",
    "banking_data = pd.read_csv(file_path)\n",
    "\n",
    "# Displaying the first 5 rows of the dataset\n",
    "print(\"First 5 rows of the dataset:\")\n",
    "print(banking_data.head())\n",
    "\n",
    "# Generating basic statistics of the numerical columns\n",
    "print(\"\\nBasic statistics of numerical columns:\")\n",
    "print(banking_data.describe())\n",
    "\n",
    "# Checking for missing values in the dataset\n",
    "print(\"\\nMissing values in the dataset:\")\n",
    "print(banking_data.isnull().sum())\n"
   ]
  }
 ],
 "metadata": {
  "kernelspec": {
   "display_name": "Python 3 (ipykernel)",
   "language": "python",
   "name": "python3"
  },
  "language_info": {
   "codemirror_mode": {
    "name": "ipython",
    "version": 3
   },
   "file_extension": ".py",
   "mimetype": "text/x-python",
   "name": "python",
   "nbconvert_exporter": "python",
   "pygments_lexer": "ipython3",
   "version": "3.12.4"
  }
 },
 "nbformat": 4,
 "nbformat_minor": 5
}
