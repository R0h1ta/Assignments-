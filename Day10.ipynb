{
 "cells": [
  {
   "cell_type": "code",
   "execution_count": null,
   "id": "7130aec9-9fd7-468b-bc1e-5184ce436890",
   "metadata": {},
   "outputs": [],
   "source": [
    "# Importing necessary libraries\n",
    "import pandas as pd\n",
    "\n",
    "# Loading the dataset\n",
    "file_path = '\"C:/Users/Win 10/Downloads/Day_9_banking_data.csv'  # Replace with the actual path\n",
    "banking_data = pd.read_csv(file_path)\n",
    "\n",
    "# 1. Filter out all rows where Transaction_Amount is greater than 2000\n",
    "transactions_above_2000 = banking_data[banking_data['Transaction_Amount'] > 2000]\n",
    "print(\"Transactions with Transaction_Amount greater than 2000:\")\n",
    "print(transactions_above_2000)\n",
    "\n",
    "# 2. Find all rows where Transaction_Type is \"Loan Payment\" and Account_Balance > 5000\n",
    "loan_payment_high_balance = banking_data[\n",
    "    (banking_data['Transaction_Type'] == 'Loan Payment') & \n",
    "    (banking_data['Account_Balance'] > 5000)\n",
    "]\n",
    "print(\"\\nRows with Transaction_Type as 'Loan Payment' and Account_Balance greater than 5000:\")\n",
    "print(loan_payment_high_balance)\n",
    "\n",
    "# 3. Extract transactions made in the \"Uptown\" branch\n",
    "uptown_transactions = banking_data[banking_data['Branch'] == 'Uptown']\n",
    "print(\"\\nTransactions made in the 'Uptown' branch:\")\n",
    "print(uptown_transactions)\n"
   ]
  },
  {
   "cell_type": "code",
   "execution_count": null,
   "id": "eaa382eb-f438-487a-93fd-c4228858c6bb",
   "metadata": {},
   "outputs": [],
   "source": []
  }
 ],
 "metadata": {
  "kernelspec": {
   "display_name": "Python 3 (ipykernel)",
   "language": "python",
   "name": "python3"
  },
  "language_info": {
   "codemirror_mode": {
    "name": "ipython",
    "version": 3
   },
   "file_extension": ".py",
   "mimetype": "text/x-python",
   "name": "python",
   "nbconvert_exporter": "python",
   "pygments_lexer": "ipython3",
   "version": "3.12.4"
  }
 },
 "nbformat": 4,
 "nbformat_minor": 5
}
